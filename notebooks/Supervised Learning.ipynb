{
 "cells": [
  {
   "cell_type": "code",
   "execution_count": 129,
   "metadata": {
    "collapsed": true
   },
   "outputs": [],
   "source": [
    "import pickle\n",
    "import argparse\n",
    "import time\n",
    "import itertools\n",
    "from copy import deepcopy\n",
    "import numpy as np\n",
    "from tqdm import tqdm\n",
    "import pandas as pd\n",
    "from sklearn.svm import LinearSVC, SVC\n",
    "from sklearn.linear_model import LogisticRegression\n",
    "from sklearn.grid_search import GridSearchCV\n",
    "import xgboost as xgb"
   ]
  },
  {
   "cell_type": "code",
   "execution_count": 120,
   "metadata": {
    "collapsed": false
   },
   "outputs": [],
   "source": [
    "cv_iter = 100\n",
    "train_iter = 1000\n",
    "clf_type = 'svm_lin'\n",
    "\n",
    "category = 'astro-ph'\n",
    "author_ind = pickle.load( open(category + '_author_ind.pkl', 'rb'))\n",
    "train_adj_list = pickle.load(open(category + '_train_adj_list.pkl', 'rb'))\n",
    "test_adj_list = pickle.load(open(category + '_test_adj_list.pkl', 'rb'))\n",
    "pred_edges = set(test_adj_list) - set(train_adj_list)\n",
    "\n",
    "# Build dataframes\n",
    "train_df = pd.read_csv(category + \"_train_df.csv\")\n",
    "test_df = pd.read_csv(category + \"_test_df.csv\")\n",
    "\n",
    "# Build matrices\n",
    "train_mat = train_df[train_df.columns[1:-1]].values\n",
    "train_out = train_df[train_df.columns[-1]].values\n",
    "test_mat = test_df[test_df.columns[1:-1]].values\n",
    "test_out = test_df[test_df.columns[-1]].values"
   ]
  },
  {
   "cell_type": "code",
   "execution_count": 128,
   "metadata": {
    "collapsed": false
   },
   "outputs": [],
   "source": [
    "def build_model(clf_type, iters, C = None):\n",
    "    model = None\n",
    "    params = {'max_iter':iters, 'class_weight':'balanced'}\n",
    "    if clf_type == 'logreg':\n",
    "        model = LogisticRegression\n",
    "    if clf_type == 'svm_lin':\n",
    "        model = LinearSVC\n",
    "    elif clf_type == 'svm_rbf':        \n",
    "        model = SVC\n",
    "        params['probability']= True\n",
    "    if C is not None:\n",
    "        params[\"C\"] = C\n",
    "    return model(**params)\n",
    "\n",
    "def make_predictions(clf, test_mat, test_out):\n",
    "    if clf_type == 'logreg' or clf_type == 'svm_rbf':\n",
    "        preds = np.exp(clf.predict_log_proba(test_mat))\n",
    "        probs = np.array([pred[1] for pred in preds])\n",
    "    else:\n",
    "        probs = clf.decision_function(test_mat)\n",
    "    top_ind = probs.argsort()[-len(pred_edges):][::-1]\n",
    "    print 'Top-k accuracy for %s model: %0.4f' % \\\n",
    "        (clf_type, np.sum(test_out[top_ind]) / float(len(pred_edges)))\n",
    "    return probs"
   ]
  },
  {
   "cell_type": "code",
   "execution_count": 126,
   "metadata": {
    "collapsed": false
   },
   "outputs": [
    {
     "name": "stdout",
     "output_type": "stream",
     "text": [
      "C_optimal is 0.1\n",
      "Top-k accuracy for svm_lin model: 0.0729\n"
     ]
    },
    {
     "data": {
      "text/plain": [
       "array([-0.90940238, -1.43606789, -1.64985883, ..., -1.36671229,\n",
       "       -2.15432759, -1.62663014])"
      ]
     },
     "execution_count": 126,
     "metadata": {},
     "output_type": "execute_result"
    }
   ],
   "source": [
    "clf = build_model(clf_type, cv_iter)\n",
    "C = [0.1, 1.0, 10.0]\n",
    "parameters = {\"C\": C}\n",
    "gs = GridSearchCV(clf, param_grid=parameters, cv=3, scoring=\"accuracy\")\n",
    "gs.fit(train_mat, train_out)\n",
    "\n",
    "gs.best_estimator_, gs.best_params_, gs.best_score_, gs.grid_scores_\n",
    "best_clf = gs.best_estimator_\n",
    "best_accuracy = gs.best_score_\n",
    "C_opt = gs.best_params_['C']\n",
    "print \"C_optimal is \" + str(C_opt)\n",
    "\n",
    "clf = build_model(clf_type, train_iter, C=C_opt)\n",
    "clf = clf.fit(train_mat, train_out)\n",
    "make_predictions(clf, test_mat, test_out)"
   ]
  },
  {
   "cell_type": "code",
   "execution_count": 133,
   "metadata": {
    "collapsed": false
   },
   "outputs": [],
   "source": [
    "num_trees = 500\n",
    "params = {\"objective\": \"binary:logistic\",\n",
    "          #\"max_depth\": max_depth,\n",
    "          #\"min_child_weight\": min_child_weight,\n",
    "          \"silent\": 1,\n",
    "          #\"seed\": 1,\n",
    "          #\"lambda\":lambda_p,\n",
    "          #\"alpha\":alpha_p,\n",
    "          \"eval_metric\": \"error\"}\n",
    "\n",
    "gbm = xgb.train(params, xgb.DMatrix(train_mat, train_out), num_trees)\n",
    "preds = gbm.predict(xgb.DMatrix(test_mat))"
   ]
  },
  {
   "cell_type": "code",
   "execution_count": 137,
   "metadata": {
    "collapsed": false
   },
   "outputs": [],
   "source": [
    "preds\n",
    "top_ind = preds.argsort()[-len(pred_edges):][::-1]"
   ]
  },
  {
   "cell_type": "code",
   "execution_count": 138,
   "metadata": {
    "collapsed": false
   },
   "outputs": [
    {
     "data": {
      "text/plain": [
       "array([ 0.94574654,  0.91005969,  0.90577954, ...,  0.10172259,\n",
       "        0.10169885,  0.10168405], dtype=float32)"
      ]
     },
     "execution_count": 138,
     "metadata": {},
     "output_type": "execute_result"
    }
   ],
   "source": [
    "preds[top_ind]"
   ]
  },
  {
   "cell_type": "code",
   "execution_count": null,
   "metadata": {
    "collapsed": true
   },
   "outputs": [],
   "source": []
  }
 ],
 "metadata": {
  "kernelspec": {
   "display_name": "Python 2",
   "language": "python",
   "name": "python2"
  },
  "language_info": {
   "codemirror_mode": {
    "name": "ipython",
    "version": 2
   },
   "file_extension": ".py",
   "mimetype": "text/x-python",
   "name": "python",
   "nbconvert_exporter": "python",
   "pygments_lexer": "ipython2",
   "version": "2.7.11"
  }
 },
 "nbformat": 4,
 "nbformat_minor": 0
}
