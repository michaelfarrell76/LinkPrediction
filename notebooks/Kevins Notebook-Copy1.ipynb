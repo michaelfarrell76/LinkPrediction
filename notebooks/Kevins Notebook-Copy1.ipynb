{
 "cells": [
  {
   "cell_type": "code",
   "execution_count": 6,
   "metadata": {
    "collapsed": true
   },
   "outputs": [],
   "source": [
    "%matplotlib inline\n",
    "import pickle\n",
    "import urllib\n",
    "import time\n",
    "import feedparser\n",
    "import itertools\n",
    "from copy import deepcopy\n",
    "import numpy as np\n",
    "import matplotlib.pyplot as plt\n",
    "import networkx as nx\n",
    "from tqdm import tqdm"
   ]
  },
  {
   "cell_type": "code",
   "execution_count": 7,
   "metadata": {
    "collapsed": false
   },
   "outputs": [],
   "source": [
    "category = 'astro-ph'\n",
    "entries = pickle.load(open(category + '_entries.pkl', 'rb'))\n",
    "author_ind = pickle.load( open(category + '_author_ind.pkl', 'rb'))\n",
    "train_adj_list = pickle.load(open(category + '_train_adj_list.pkl', 'rb'))\n",
    "test_adj_list = pickle.load(open(category + '_test_adj_list.pkl', 'rb'))\n",
    "num_authors = len(author_ind)\n",
    "authors = range(num_authors)\n",
    "pos_edges = set([(min(a1, a2), max(a1, a2)) for (a1, a2) in \\\n",
    "                 itertools.combinations(authors, 2)]) - set(train_adj_list)\n",
    "pred_edges = set(test_adj_list) - set(train_adj_list)"
   ]
  },
  {
   "cell_type": "code",
   "execution_count": 11,
   "metadata": {
    "collapsed": false
   },
   "outputs": [],
   "source": [
    "def gen_neighbors(train_adj_list, author_ind):\n",
    "    neighbors = {}\n",
    "    for a in author_ind.iterkeys():\n",
    "        neighbors[author_ind[a]] = frozenset()\n",
    "\n",
    "    for e in train_adj_list:\n",
    "        neighbors[e[0]] = neighbors[e[0]].union(set([e[1]]))\n",
    "        neighbors[e[1]] = neighbors[e[1]].union(set([e[0]]))\n",
    "    return neighbors\n",
    "\n",
    "def common_neighbors(neighbors, authors, k):\n",
    "    ranking = []\n",
    "    for a1, a2 in pos_edges:\n",
    "        neighbor_count = len(neighbors[a1].intersection(neighbors[a2]))\n",
    "        ranking.append((a1, a2, neighbor_count))\n",
    "    ranking.sort(key=lambda p: -p[2])\n",
    "    ranking = [(r[:2]) for r in ranking]\n",
    "    ranked_edges = set(ranking[:k])\n",
    "    return ranked_edges\n",
    "\n",
    "def random_edges(pos_edges, k):\n",
    "    ind = np.random.choice(range(num_authors), k)\n",
    "    pos_edges_list = list(pos_edges)\n",
    "    pred_edges = set([pos_edges_list[i] for i in ind])\n",
    "    return pred_edges\n",
    "\n",
    "# Shortest distances\n",
    "def floyd_warshall(train_adj_list, num_authors):\n",
    "    dist = np.zeros((num_authors, num_authors)) + 1e10\n",
    "    for e in train_adj_list:\n",
    "        dist[e[0]][e[1]] = 1\n",
    "        dist[e[1]][e[0]] = 1\n",
    "    # Because symmetrical, only want to calculate dist[i][j] where j > i\n",
    "    # This means that j > k, j > i, k > i.\n",
    "    for k in tqdm(range(num_authors)):\n",
    "        for i in range(k):\n",
    "            for j in range(k + 1, num_authors):\n",
    "                if dist[i][j] > dist[i][k] + dist[k][j]:\n",
    "                    dist[i][j] = dist[i][k] + dist[k][j]\n",
    "    return dist\n",
    "\n",
    "def build_matrix(train_adj_list, author_ind):\n",
    "    P = np.zeros((len(author_ind), len(author_ind))) + 1e-50\n",
    "    for e in train_adj_list:\n",
    "        P[e[0]][e[1]] = 1\n",
    "        P[e[1]][e[0]] = 1        \n",
    "    return P\n",
    "\n",
    "def pred_acc(pred_edges, ranked_edges):\n",
    "    tot_edges = float(len(pred_edges))\n",
    "    cor_edges = pred_edges.intersection(ranked_edges)\n",
    "    return len(cor_edges) / tot_edges"
   ]
  },
  {
   "cell_type": "code",
   "execution_count": 1,
   "metadata": {
    "collapsed": true
   },
   "outputs": [],
   "source": [
    "# Rooted pagerank\n",
    "def rooted_pr(P, alpha, e, threshold=1e-40):\n",
    "    n = P.shape[0]\n",
    "    P_norm = np.divide(P.T, (P.sum(axis=1)))\n",
    "    \n",
    "    # Start at x\n",
    "    s_o = np.array([0] * n)\n",
    "    s_o[e[0]] = 1\n",
    "    s_i = None\n",
    "    \n",
    "    # Random prob alpha to jump to x\n",
    "    E = np.array([0] * n)\n",
    "    E[e[0]] = alpha\n",
    "        \n",
    "    while (np.sum(np.abs(s_i - s_o)) > threshold):\n",
    "        s_o = s_i\n",
    "        s_i = np.dot(((1 - alpha) * P_norm + E), s_o)\n",
    "    \n",
    "    return s_i[e[1]]"
   ]
  },
  {
   "cell_type": "code",
   "execution_count": 12,
   "metadata": {
    "collapsed": false
   },
   "outputs": [
    {
     "data": {
      "text/plain": [
       "0.002871205906480722"
      ]
     },
     "execution_count": 12,
     "metadata": {},
     "output_type": "execute_result"
    }
   ],
   "source": [
    "neighbors = gen_neighbors(train_adj_list, author_ind)\n",
    "t = build_matrix(train_adj_list, author_ind)\n",
    "cn_edges = common_neighbors(neighbors, authors, len(pred_edges))\n",
    "rand_edges = random_edges(pos_edges, len(pred_edges))\n",
    "\n",
    "# Common neighbors\n",
    "pred_acc(cn_edges, pred_edges)\n",
    "pred_acc(rand_edges, pred_edges)"
   ]
  },
  {
   "cell_type": "code",
   "execution_count": 13,
   "metadata": {
    "collapsed": false
   },
   "outputs": [
    {
     "name": "stderr",
     "output_type": "stream",
     "text": [
      "100%|██████████| 2559/2559 [39:36<00:00,  1.08it/s]\n"
     ]
    }
   ],
   "source": [
    "# Takes around 30 minutes to run\n",
    "dist = floyd_warshall(train_adj_list, num_authors)\n",
    "dist = dist.astype(int)\n"
   ]
  },
  {
   "cell_type": "code",
   "execution_count": 18,
   "metadata": {
    "collapsed": true
   },
   "outputs": [],
   "source": [
    "pickle.dump(dist, open(category + '_dist.pkl', 'wb'))"
   ]
  },
  {
   "cell_type": "code",
   "execution_count": null,
   "metadata": {
    "collapsed": true
   },
   "outputs": [],
   "source": [
    "# Look at all distances of 2 \n",
    "# Look at all distances 3\n",
    "# Choose top k from these"
   ]
  },
  {
   "cell_type": "code",
   "execution_count": 14,
   "metadata": {
    "collapsed": false
   },
   "outputs": [
    {
     "name": "stderr",
     "output_type": "stream",
     "text": [
      "100%|██████████| 2559/2559 [00:01<00:00, 1861.27it/s]\n"
     ]
    }
   ],
   "source": [
    "dist_2 = []\n",
    "for i in tqdm(range(num_authors)):\n",
    "    for j in range(i + 1, num_authors):\n",
    "        if dist[i][j] == 2:\n",
    "            dist_2.append((i, j))"
   ]
  },
  {
   "cell_type": "code",
   "execution_count": 17,
   "metadata": {
    "collapsed": false
   },
   "outputs": [
    {
     "data": {
      "text/plain": [
       "43375"
      ]
     },
     "execution_count": 17,
     "metadata": {},
     "output_type": "execute_result"
    }
   ],
   "source": [
    "len(dist_2)"
   ]
  },
  {
   "cell_type": "code",
   "execution_count": null,
   "metadata": {
    "collapsed": true
   },
   "outputs": [],
   "source": []
  }
 ],
 "metadata": {
  "kernelspec": {
   "display_name": "Python 2",
   "language": "python",
   "name": "python2"
  },
  "language_info": {
   "codemirror_mode": {
    "name": "ipython",
    "version": 2
   },
   "file_extension": ".py",
   "mimetype": "text/x-python",
   "name": "python",
   "nbconvert_exporter": "python",
   "pygments_lexer": "ipython2",
   "version": "2.7.11"
  }
 },
 "nbformat": 4,
 "nbformat_minor": 0
}
