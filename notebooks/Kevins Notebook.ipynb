{
 "cells": [
  {
   "cell_type": "code",
   "execution_count": 2,
   "metadata": {
    "collapsed": true
   },
   "outputs": [],
   "source": [
    "%matplotlib inline\n",
    "import pickle\n",
    "import urllib\n",
    "import time\n",
    "import feedparser\n",
    "import itertools\n",
    "from copy import deepcopy\n",
    "import numpy as np\n",
    "import matplotlib.pyplot as plt\n",
    "import networkx as nx\n",
    "from tqdm import tqdm"
   ]
  },
  {
   "cell_type": "code",
   "execution_count": 3,
   "metadata": {
    "collapsed": false
   },
   "outputs": [],
   "source": [
    "category = 'astro-ph'\n",
    "entries = pickle.load(open(category + '_entries.pkl', 'rb'))\n",
    "author_ind = pickle.load( open(category + '_author_ind.pkl', 'rb'))\n",
    "train_adj_list = pickle.load(open(category + '_train_adj_list.pkl', 'rb'))\n",
    "test_adj_list = pickle.load(open(category + '_test_adj_list.pkl', 'rb'))\n",
    "num_authors = len(author_ind)\n",
    "authors = range(num_authors)\n",
    "pos_edges = set([(min(a1, a2), max(a1, a2)) for (a1, a2) in \\\n",
    "                 itertools.combinations(authors, 2)]) - set(train_adj_list)\n",
    "pred_edges = set(test_adj_list) - set(train_adj_list)\n",
    "dist = pickle.load(open(category + '_dist.pkl', 'rb'))"
   ]
  },
  {
   "cell_type": "code",
   "execution_count": 4,
   "metadata": {
    "collapsed": false
   },
   "outputs": [],
   "source": [
    "def gen_neighbors(train_adj_list, author_ind):\n",
    "    neighbors = {}\n",
    "    for a in author_ind.iterkeys():\n",
    "        neighbors[author_ind[a]] = frozenset()\n",
    "\n",
    "    for e in train_adj_list:\n",
    "        neighbors[e[0]] = neighbors[e[0]].union(set([e[1]]))\n",
    "        neighbors[e[1]] = neighbors[e[1]].union(set([e[0]]))\n",
    "    return neighbors\n",
    "\n",
    "def common_neighbors(pos_edges, neighbors, authors, k):\n",
    "    ranking = []\n",
    "    for a1, a2 in pos_edges:\n",
    "        neighbor_count = len(neighbors[a1].intersection(neighbors[a2]))\n",
    "        ranking.append((a1, a2, neighbor_count))\n",
    "    ranking.sort(key=lambda p: -p[2])\n",
    "    ranking = [(r[:2]) for r in ranking]\n",
    "    ranked_edges = set(ranking[:k])\n",
    "    return ranked_edges\n",
    "\n",
    "def adamic_adar(pos_edges, neighbors, k):\n",
    "    ranking = []\n",
    "    for e in tqdm(pos_edges):\n",
    "        edge_neighbors = neighbors[e[0]].intersection(neighbors[e[1]])\n",
    "        score = np.sum([(1.0/np.log(len(neighbors[n]) + 1e-10)) for n in edge_neighbors])\n",
    "        ranking.append((e[0], e[1], score))\n",
    "    ranking.sort(key=lambda p: -p[2])\n",
    "    ranking = [(r[:2]) for r in ranking]\n",
    "    ranked_edges = set(ranking[:k])\n",
    "    return ranked_edges\n",
    "\n",
    "def random_edges(pos_edges, k):\n",
    "    ind = np.random.choice(range(len(pos_edges)), k, replace=False)\n",
    "    pos_edges_list = list(pos_edges)\n",
    "    pred_edges = set([pos_edges_list[i] for i in ind])\n",
    "    return pred_edges\n",
    "\n",
    "# Shortest distances\n",
    "def floyd_warshall(train_adj_list, num_authors):\n",
    "    dist = np.zeros((num_authors, num_authors)) + 1e10\n",
    "    for e in train_adj_list:\n",
    "        dist[e[0]][e[1]] = 1\n",
    "        dist[e[1]][e[0]] = 1\n",
    "    # Because symmetrical, only want to calculate dist[i][j] where j > i\n",
    "    # This means that j > k, j > i, k > i.\n",
    "    for k in tqdm(range(num_authors)):\n",
    "        for i in range(k):\n",
    "            for j in range(k + 1, num_authors):\n",
    "                if dist[i][j] > dist[i][k] + dist[k][j]:\n",
    "                    dist[i][j] = dist[i][k] + dist[k][j]\n",
    "    return dist\n",
    "\n",
    "def build_matrix(train_adj_list, author_ind):\n",
    "    P = np.zeros((len(author_ind), len(author_ind))) + 1e-50\n",
    "    for e in train_adj_list:\n",
    "        P[e[0]][e[1]] = 1\n",
    "        P[e[1]][e[0]] = 1        \n",
    "    return P\n",
    "\n",
    "# Rooted pagerank\n",
    "def rooted_pagerank(P, alpha, e, threshold=1e-3):\n",
    "    n = P.shape[0]\n",
    "    P_norm = np.divide(P.T, (P.sum(axis=1)))\n",
    "    \n",
    "    # Start at x\n",
    "    s_o = np.zeros((n))\n",
    "    s_i = np.array([0] * n)\n",
    "    s_i[e[0]] = 1\n",
    "    \n",
    "    # Random prob alpha to jump to x\n",
    "    E = np.zeros((n, n))\n",
    "    E[e[0], :] = alpha\n",
    "    \n",
    "    # Transition matrix\n",
    "    t = (1 - alpha) * P_norm + E\n",
    "    \n",
    "    while (np.sum(np.abs(s_i - s_o)) > threshold):\n",
    "        s_o = s_i\n",
    "        s_i = np.dot(t, s_o)\n",
    "    return s_i[e[1]]\n",
    "\n",
    "# Generate matrix with rooted pagerank for all possible edges \n",
    "def build_pr_matrix(P, edges, alpha, k):\n",
    "    num_authors = P.shape[0]\n",
    "    root_pr = {}\n",
    "    for e in tqdm(edges):\n",
    "        root_pr[e] = rooted_pagerank(P, alpha, e, threshold=1e-5)\n",
    "    pr_edges_l = []\n",
    "    for e, v in root_pr.iteritems():\n",
    "        pr_edges_l.append((e[0], e[1], v))\n",
    "    pr_edges_l.sort(key=lambda p: -p[2])\n",
    "    pr_edges_l = [(r[:2]) for r in pr_edges_l]\n",
    "    pr_edges_l = set(pr_edges_l[:k])\n",
    "    return pr_edges_l, root_pr\n",
    "\n",
    "def graph_distance(dist, num_authors, k):\n",
    "    # Shortest distance edges\n",
    "    shortest_dist = []\n",
    "    for i in range(num_authors):\n",
    "        for j in range(i + 1, num_authors):\n",
    "            if dist[i][j] == 2:\n",
    "                shortest_dist.append((i, j))\n",
    "    # Generally, distance of 2 will be completely sufficient\n",
    "    ind = np.random.choice(range(len(shortest_dist)), k, replace=False)    \n",
    "    pred_edges = set([shortest_dist[i] for i in ind])\n",
    "    return pred_edges, shortest_dist\n",
    "\n",
    "def pred_acc(pred_edges, ranked_edges):\n",
    "    tot_edges = float(len(pred_edges))\n",
    "    cor_edges = pred_edges.intersection(ranked_edges)\n",
    "    return len(cor_edges) / tot_edges"
   ]
  },
  {
   "cell_type": "code",
   "execution_count": 5,
   "metadata": {
    "collapsed": false
   },
   "outputs": [],
   "source": [
    "neighbors = gen_neighbors(train_adj_list, author_ind)\n",
    "P = build_matrix(train_adj_list, author_ind)\n",
    "cn_edges = common_neighbors(pos_edges, neighbors, authors, len(pred_edges))\n",
    "rand_edges = random_edges(pos_edges, len(pred_edges))\n",
    "closest_edges, all_closest = graph_distance(dist, num_authors, len(pred_edges))"
   ]
  },
  {
   "cell_type": "code",
   "execution_count": 6,
   "metadata": {
    "collapsed": false
   },
   "outputs": [
    {
     "name": "stderr",
     "output_type": "stream",
     "text": [
      "100%|██████████| 3258886/3258886 [00:20<00:00, 158153.61it/s]\n"
     ]
    }
   ],
   "source": [
    "aa_edges = adamic_adar(pos_edges, neighbors, len(pred_edges))"
   ]
  },
  {
   "cell_type": "code",
   "execution_count": null,
   "metadata": {
    "collapsed": false
   },
   "outputs": [],
   "source": [
    "root_pr_dict = {}\n",
    "for r in [0.1]:\n",
    "    pr_edges_l, root_pr = build_pr_matrix(P, all_closest[:], r, len(pred_edges))\n",
    "    root_pr_dict[r] = root_pr\n",
    "    print \"Rooted pagerank accuracy: %0.4f\" % pred_acc(pr_edges_l, pred_edges)"
   ]
  },
  {
   "cell_type": "code",
   "execution_count": 312,
   "metadata": {
    "collapsed": false
   },
   "outputs": [
    {
     "data": {
      "text/plain": [
       "18375"
      ]
     },
     "execution_count": 312,
     "metadata": {},
     "output_type": "execute_result"
    }
   ],
   "source": [
    "len(pr_edges)"
   ]
  },
  {
   "cell_type": "code",
   "execution_count": 316,
   "metadata": {
    "collapsed": false
   },
   "outputs": [
    {
     "name": "stdout",
     "output_type": "stream",
     "text": [
      "Random edges accuracy: 0.0031\n",
      "Common neighbors accuracy: 0.0923\n",
      "Graph distance accuracy: 0.0333\n",
      "Adamic adar accuracy: 0.1020\n",
      "Rooted pagerank accuracy: 0.0559\n"
     ]
    }
   ],
   "source": [
    "# Top K where K is number of test set edges\n",
    "print \"Random edges accuracy: %0.4f\" % pred_acc(rand_edges, pred_edges)\n",
    "print \"Common neighbors accuracy: %0.4f\" % pred_acc(cn_edges, pred_edges)\n",
    "print \"Graph distance accuracy: %0.4f\" % pred_acc(closest_edges, pred_edges)\n",
    "print \"Adamic adar accuracy: %0.4f\" % pred_acc(aa_edges, pred_edges)\n",
    "print \"Rooted pagerank accuracy: %0.4f\" % pred_acc(pr_edges_l, pred_edges)"
   ]
  },
  {
   "cell_type": "code",
   "execution_count": 116,
   "metadata": {
    "collapsed": false
   },
   "outputs": [
    {
     "name": "stderr",
     "output_type": "stream",
     "text": [
      "100%|██████████| 3258886/3258886 [00:26<00:00, 124902.07it/s]\n"
     ]
    }
   ],
   "source": [
    "ranking = []\n",
    "for e in tqdm(pos_edges):\n",
    "    edge_neighbors = neighbors[e[0]].intersection(neighbors[e[1]])\n",
    "    score = np.sum([(1.0/np.log(len(neighbors[n]) + 1e-10)) for n in edge_neighbors])\n",
    "    ranking.append((e[0], e[1], score))\n",
    "ranking.sort(key=lambda p: -p[2])\n",
    "ranking = [(r[:2]) for r in ranking]"
   ]
  },
  {
   "cell_type": "code",
   "execution_count": 314,
   "metadata": {
    "collapsed": false
   },
   "outputs": [
    {
     "name": "stdout",
     "output_type": "stream",
     "text": [
      "Rooted pagerank accuracy: 0.0559\n"
     ]
    }
   ],
   "source": [
    "pr_edges_l = []\n",
    "for k, v in pr_edges.iteritems():\n",
    "    pr_edges_l.append((k[0], k[1], v))\n",
    "pr_edges_l.sort(key=lambda p: -p[2])\n",
    "pr_edges_l = [(r[:2]) for r in pr_edges_l]\n",
    "pr_edges_l = set(pr_edges_l[:len(pred_edges)])\n",
    "print \"Rooted pagerank accuracy: %0.4f\" % pred_acc(pr_edges_l, pred_edges)"
   ]
  },
  {
   "cell_type": "code",
   "execution_count": 315,
   "metadata": {
    "collapsed": false
   },
   "outputs": [
    {
     "data": {
      "text/plain": [
       "0.08919229296924844"
      ]
     },
     "execution_count": 315,
     "metadata": {},
     "output_type": "execute_result"
    }
   ],
   "source": [
    "len(set(all_closest[25000:]).intersection(pred_edges))/float(len(pred_edges))"
   ]
  },
  {
   "cell_type": "code",
   "execution_count": 41,
   "metadata": {
    "collapsed": false,
    "scrolled": true
   },
   "outputs": [
    {
     "data": {
      "text/plain": [
       "{(3, 687),\n",
       " (3, 1367),\n",
       " (33, 1367),\n",
       " (61, 1037),\n",
       " (61, 1062),\n",
       " (61, 1727),\n",
       " (61, 1737),\n",
       " (61, 1820),\n",
       " (136, 1367),\n",
       " (141, 1367),\n",
       " (153, 687),\n",
       " (153, 1367),\n",
       " (168, 1639)}"
      ]
     },
     "execution_count": 41,
     "metadata": {},
     "output_type": "execute_result"
    }
   ],
   "source": [
    "set([p[:2] for p in pr_edges_l[:100]]).intersection(pred_edges)"
   ]
  },
  {
   "cell_type": "code",
   "execution_count": 283,
   "metadata": {
    "collapsed": false
   },
   "outputs": [],
   "source": [
    "np.set_printoptions(threshold=np.nan)\n",
    "np.set_printoptions(threshold=10)"
   ]
  }
 ],
 "metadata": {
  "kernelspec": {
   "display_name": "Python 2",
   "language": "python",
   "name": "python2"
  },
  "language_info": {
   "codemirror_mode": {
    "name": "ipython",
    "version": 2
   },
   "file_extension": ".py",
   "mimetype": "text/x-python",
   "name": "python",
   "nbconvert_exporter": "python",
   "pygments_lexer": "ipython2",
   "version": "2.7.11"
  }
 },
 "nbformat": 4,
 "nbformat_minor": 0
}
