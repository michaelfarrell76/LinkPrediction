{
 "cells": [
  {
   "cell_type": "code",
   "execution_count": 1,
   "metadata": {
    "collapsed": true
   },
   "outputs": [],
   "source": [
    "import pickle\n",
    "import time\n",
    "import itertools\n",
    "from copy import deepcopy\n",
    "import numpy as np\n",
    "from tqdm import tqdm\n",
    "import pandas as pd"
   ]
  },
  {
   "cell_type": "code",
   "execution_count": 9,
   "metadata": {
    "collapsed": true
   },
   "outputs": [],
   "source": [
    "def gen_neighbors(adj_list, author_ind):\n",
    "    neighbors = {}\n",
    "    for a in author_ind.iterkeys():\n",
    "        neighbors[author_ind[a]] = frozenset()\n",
    "    for e in adj_list:\n",
    "        neighbors[e[0]] = neighbors[e[0]].union(set([e[1]]))\n",
    "        neighbors[e[1]] = neighbors[e[1]].union(set([e[0]]))\n",
    "    return neighbors\n",
    "\n",
    "def common_neighbors(pos_edges, neighbors, authors):\n",
    "    ranking = []\n",
    "    for a1, a2 in pos_edges:\n",
    "        neighbor_count = len(neighbors[a1].intersection(neighbors[a2]))\n",
    "        ranking.append((a1, a2, neighbor_count))\n",
    "    return ranking\n",
    "\n",
    "def adamic_adar(pos_edges, neighbors):\n",
    "    ranking = []\n",
    "    for e in tqdm(pos_edges):\n",
    "        edge_neighbors = neighbors[e[0]].intersection(neighbors[e[1]])\n",
    "        score = np.sum([(1.0/np.log(len(neighbors[n]) + 1e-10)) for n in edge_neighbors])\n",
    "        ranking.append((e[0], e[1], score))\n",
    "    return ranking\n",
    "\n",
    "def build_matrix(adj_list, author_ind):\n",
    "    P = np.zeros((len(author_ind), len(author_ind)))\n",
    "    for e in adj_list:\n",
    "        P[e[0]][e[1]] = 1\n",
    "        P[e[1]][e[0]] = 1        \n",
    "    return P.astype(int)"
   ]
  },
  {
   "cell_type": "code",
   "execution_count": 10,
   "metadata": {
    "collapsed": false
   },
   "outputs": [],
   "source": [
    "# Returns a vector of the number of neighbors for \n",
    "# each node that are d away.\n",
    "def gen_neighbor_count(d, dist, num_authors):\n",
    "    counts = np.zeros(num_authors)\n",
    "    for i in range(num_authors):\n",
    "        for j in range(i+1, num_authors):\n",
    "            if dist[i][j] == d:\n",
    "                counts[i] += 1\n",
    "                counts[j] += 1\n",
    "    return counts        \n",
    "        \n",
    "    \n",
    "# Transforms a list of results of neighbors into a matrix\n",
    "# where matrix values correspond to that feature\n",
    "def transform_matrix(edges, num_authors):\n",
    "    m = np.zeros((num_authors, num_authors))\n",
    "    for e in edges:\n",
    "        m[e[0]][e[1]] = e[2]\n",
    "        m[e[1]][e[0]] = e[2]\n",
    "    return m\n",
    "\n",
    "# Given matrix that is only filled triangularly for j > i, \n",
    "# fill it also for i > j.\n",
    "def fill_matrix(m):\n",
    "    for i in range(num_authors):\n",
    "        for j in range(i+1, num_authors):\n",
    "            m[j][i] = m[i][j]\n",
    "    return m"
   ]
  },
  {
   "cell_type": "code",
   "execution_count": 14,
   "metadata": {
    "collapsed": false
   },
   "outputs": [
    {
     "name": "stderr",
     "output_type": "stream",
     "text": [
      "100%|██████████| 3272961/3272961 [00:21<00:00, 152735.66it/s]\n",
      "  0%|          | 0/3258886 [00:00<?, ?it/s]\n"
     ]
    },
    {
     "ename": "NameError",
     "evalue": "global name 'actual_m' is not defined",
     "output_type": "error",
     "traceback": [
      "\u001b[0;31m---------------------------------------------------------------------------\u001b[0m",
      "\u001b[0;31mNameError\u001b[0m                                 Traceback (most recent call last)",
      "\u001b[0;32m<ipython-input-14-53426da5957e>\u001b[0m in \u001b[0;36m<module>\u001b[0;34m()\u001b[0m\n\u001b[1;32m     87\u001b[0m     \u001b[0;32mreturn\u001b[0m \u001b[0mdf\u001b[0m\u001b[0;34m\u001b[0m\u001b[0m\n\u001b[1;32m     88\u001b[0m \u001b[0;34m\u001b[0m\u001b[0m\n\u001b[0;32m---> 89\u001b[0;31m \u001b[0mtrain_df\u001b[0m \u001b[0;34m=\u001b[0m \u001b[0mbuild_df\u001b[0m\u001b[0;34m(\u001b[0m\u001b[0mtrain\u001b[0m\u001b[0;34m=\u001b[0m\u001b[0mTrue\u001b[0m\u001b[0;34m)\u001b[0m\u001b[0;34m\u001b[0m\u001b[0m\n\u001b[0m\u001b[1;32m     90\u001b[0m \u001b[0mtest_df\u001b[0m \u001b[0;34m=\u001b[0m \u001b[0mbuild_df\u001b[0m\u001b[0;34m(\u001b[0m\u001b[0mtrain\u001b[0m\u001b[0;34m=\u001b[0m\u001b[0mFalse\u001b[0m\u001b[0;34m)\u001b[0m\u001b[0;34m\u001b[0m\u001b[0m\n",
      "\u001b[0;32m<ipython-input-14-53426da5957e>\u001b[0m in \u001b[0;36mbuild_df\u001b[0;34m(train, write, sample)\u001b[0m\n\u001b[1;32m     66\u001b[0m             \u001b[0mn3_list_2\u001b[0m\u001b[0;34m.\u001b[0m\u001b[0mappend\u001b[0m\u001b[0;34m(\u001b[0m\u001b[0mneighbor_count\u001b[0m\u001b[0;34m[\u001b[0m\u001b[0;36m3\u001b[0m\u001b[0;34m]\u001b[0m\u001b[0;34m[\u001b[0m\u001b[0me\u001b[0m\u001b[0;34m[\u001b[0m\u001b[0;36m1\u001b[0m\u001b[0;34m]\u001b[0m\u001b[0;34m]\u001b[0m\u001b[0;34m)\u001b[0m\u001b[0;34m\u001b[0m\u001b[0m\n\u001b[1;32m     67\u001b[0m             \u001b[0mn4_list_2\u001b[0m\u001b[0;34m.\u001b[0m\u001b[0mappend\u001b[0m\u001b[0;34m(\u001b[0m\u001b[0mneighbor_count\u001b[0m\u001b[0;34m[\u001b[0m\u001b[0;36m4\u001b[0m\u001b[0;34m]\u001b[0m\u001b[0;34m[\u001b[0m\u001b[0me\u001b[0m\u001b[0;34m[\u001b[0m\u001b[0;36m1\u001b[0m\u001b[0;34m]\u001b[0m\u001b[0;34m]\u001b[0m\u001b[0;34m)\u001b[0m\u001b[0;34m\u001b[0m\u001b[0m\n\u001b[0;32m---> 68\u001b[0;31m             \u001b[0medge_exist_list\u001b[0m\u001b[0;34m.\u001b[0m\u001b[0mappend\u001b[0m\u001b[0;34m(\u001b[0m\u001b[0mactual_m\u001b[0m\u001b[0;34m[\u001b[0m\u001b[0me\u001b[0m\u001b[0;34m[\u001b[0m\u001b[0;36m0\u001b[0m\u001b[0;34m]\u001b[0m\u001b[0;34m]\u001b[0m\u001b[0;34m[\u001b[0m\u001b[0me\u001b[0m\u001b[0;34m[\u001b[0m\u001b[0;36m1\u001b[0m\u001b[0;34m]\u001b[0m\u001b[0;34m]\u001b[0m\u001b[0;34m)\u001b[0m\u001b[0;34m\u001b[0m\u001b[0m\n\u001b[0m\u001b[1;32m     69\u001b[0m             \u001b[0mcount\u001b[0m \u001b[0;34m+=\u001b[0m \u001b[0;36m1\u001b[0m\u001b[0;34m\u001b[0m\u001b[0m\n\u001b[1;32m     70\u001b[0m \u001b[0;34m\u001b[0m\u001b[0m\n",
      "\u001b[0;31mNameError\u001b[0m: global name 'actual_m' is not defined"
     ]
    }
   ],
   "source": [
    "# def build_df(pos_edges, dist_m, cn_m, aa_m, neighbor_count, actual_m):\n",
    "#     pos_edges = list(pos_edges)\n",
    "#     dist_list, cn_list, aa_list = [], [], []\n",
    "#     n1_list_1, n2_list_1, n3_list_1, n4_list_1 = [], [], [], []\n",
    "#     n1_list_2, n2_list_2, n3_list_2, n4_list_2 = [], [], [], []\n",
    "#     edge_exist_list = []\n",
    "\n",
    "#     count = 0\n",
    "#     # Building the test set\n",
    "#     for e in tqdm(pos_edges):\n",
    "#         if aa_m[e[0]][e[1]] > 0.1 and cn_m[e[0]][e[1]] > 0 and \\\n",
    "#             actual_m[e[0]][e[1]] > 0 and neighbor_count[1][e[0]] > 0 \\\n",
    "#             and neighbor_count[1][e[1]] > 0 or np.random.rand() > 0.97:\n",
    "#             dist_list.append(dist_m[e[0]][e[1]])\n",
    "#             cn_list.append(cn_m[e[0]][e[1]])\n",
    "#             aa_list.append(aa_m[e[0]][e[1]])\n",
    "#             n1_list_1.append(neighbor_count[1][e[0]])\n",
    "#             n2_list_1.append(neighbor_count[2][e[0]])\n",
    "#             n3_list_1.append(neighbor_count[3][e[0]])\n",
    "#             n4_list_1.append(neighbor_count[4][e[0]])\n",
    "#             n1_list_2.append(neighbor_count[1][e[1]])\n",
    "#             n2_list_2.append(neighbor_count[2][e[1]])\n",
    "#             n3_list_2.append(neighbor_count[3][e[1]])\n",
    "#             n4_list_2.append(neighbor_count[4][e[1]])\n",
    "#             edge_exist_list.append(actual_m[e[0]][e[1]])\n",
    "#             count += 1\n",
    "   \n",
    "#     d = {'edge':pos_edges[:count], 'common_neighbors':cn_list, 'adamic_adar':aa_list,\n",
    "#         'n1_node1':n1_list_1, 'n2_node1':n2_list_1, 'n3_node1':n3_list_1,\n",
    "#         'n4_node1':n4_list_1, 'n1_node2': n1_list_2, 'n2_node2': n2_list_2,\n",
    "#         'n3_node2': n3_list_2, 'n4_node2': n4_list_2, 'target': edge_exist_list}    \n",
    "#     df = pd.DataFrame(data=d)\n",
    "#     cols = ['edge', 'common_neighbors', 'adamic_adar', 'n1_node1', 'n2_node1',\n",
    "#            'n3_node1', 'n4_node1', 'n1_node2', 'n2_node2', 'n3_node2', 'n4_node2',\n",
    "#            'target']\n",
    "#     df = df[cols]\n",
    "    \n",
    "#     return df\n",
    "    \n",
    "# train_df = build_df(all_edges, dist_m, cn_m, aa_m, neighbor_count, P_train)\n",
    "# test_df = build_df(pos_edges, dist_m, cn_m, aa_m, neighbor_count, P_test)"
   ]
  },
  {
   "cell_type": "code",
   "execution_count": 18,
   "metadata": {
    "collapsed": false
   },
   "outputs": [
    {
     "name": "stderr",
     "output_type": "stream",
     "text": [
      "100%|██████████| 3272961/3272961 [00:24<00:00, 136328.31it/s]\n",
      "100%|██████████| 3272961/3272961 [00:05<00:00, 595180.00it/s]\n",
      "100%|██████████| 3272961/3272961 [00:23<00:00, 138175.65it/s]\n",
      "100%|██████████| 3258886/3258886 [00:05<00:00, 565093.34it/s]\n"
     ]
    }
   ],
   "source": [
    "def build_df(train=True, write=False, sample=0.999):\n",
    "    category = 'astro-ph'\n",
    "    loc = 'data/' + category\n",
    "    entries = pickle.load(open(loc + '_entries.pkl', 'rb'))\n",
    "    author_ind = pickle.load(open(loc + '_author_ind.pkl', 'rb'))\n",
    "    train_adj_list = pickle.load(open(loc + '_train_adj_list.pkl', 'rb'))\n",
    "    test_adj_list = pickle.load(open(loc + '_test_adj_list.pkl', 'rb'))\n",
    "    num_authors = len(author_ind)\n",
    "    authors = range(num_authors)\n",
    "    all_edges = set([(min(a1, a2), max(a1, a2)) for (a1, a2) in \\\n",
    "                     itertools.combinations(authors, 2)])\n",
    "    pos_edges = all_edges - set(train_adj_list)\n",
    "    pred_edges = set(test_adj_list) - set(train_adj_list)\n",
    "    dist = pickle.load(open(loc + '_dist.pkl', 'rb'))\n",
    "\n",
    "    neighbors = gen_neighbors(train_adj_list, author_ind)\n",
    "    cn_edges = common_neighbors(all_edges, neighbors, authors)\n",
    "    aa_edges = adamic_adar(all_edges, neighbors)\n",
    "    \n",
    "    # Distance matrix\n",
    "    dist_m = fill_matrix(dist)\n",
    "    # Common neighbors matrix\n",
    "    cn_m = transform_matrix(cn_edges, num_authors)\n",
    "    # Common neighbors matrix\n",
    "    aa_m = transform_matrix(aa_edges, num_authors)\n",
    "\n",
    "    P_train = build_matrix(train_adj_list, author_ind)\n",
    "    P_test = build_matrix(test_adj_list, author_ind)\n",
    "    \n",
    "    max_dist = 4\n",
    "    neighbor_count = {}\n",
    "    for d in range(1, max_dist + 1):\n",
    "        neighbor_count[d] = (gen_neighbor_count(d, dist, num_authors))\n",
    "    # neighbor_count = np.vstack(neighbor_count)\n",
    "\n",
    "    # pickle.dump(dist_m, open(category + '_dist_m.pkl', 'wb'))\n",
    "    # pickle.dump(cn_m, open(category + '_cn_m.pkl', 'wb'))\n",
    "    # pickle.dump(aa_m, open(category + '_aa_m.pkl', 'wb'))\n",
    "    # pickle.dump(neighbor_count, open(category + '_neighbor_count.pkl', 'wb'))\n",
    "\n",
    "    if train:\n",
    "        edges = all_edges\n",
    "        actual_m = P_train\n",
    "    else:\n",
    "        edges = pos_edges\n",
    "        actual_m = P_test\n",
    "    \n",
    "    edges = list(edges)\n",
    "    dist_list, cn_list, aa_list = [], [], []\n",
    "    n1_list_1, n2_list_1, n3_list_1, n4_list_1 = [], [], [], []\n",
    "    n1_list_2, n2_list_2, n3_list_2, n4_list_2 = [], [], [], []\n",
    "    edge_list, edge_exist_list = [], []\n",
    "\n",
    "    count = 0\n",
    "    for e in tqdm(edges):\n",
    "        if aa_m[e[0]][e[1]] > 0.01 and cn_m[e[0]][e[1]] > 0 and \\\n",
    "            neighbor_count[1][e[0]] > 0 and neighbor_count[1][e[1]] > 0 \\\n",
    "            or actual_m[e[0]][e[1]] > 0 or np.random.rand() > sample:\n",
    "            dist_list.append(dist_m[e[0]][e[1]])\n",
    "            edge_list.append(e)\n",
    "            cn_list.append(cn_m[e[0]][e[1]])\n",
    "            aa_list.append(aa_m[e[0]][e[1]])\n",
    "            n1_list_1.append(neighbor_count[1][e[0]])\n",
    "            n2_list_1.append(neighbor_count[2][e[0]])\n",
    "            n3_list_1.append(neighbor_count[3][e[0]])\n",
    "            n4_list_1.append(neighbor_count[4][e[0]])\n",
    "            n1_list_2.append(neighbor_count[1][e[1]])\n",
    "            n2_list_2.append(neighbor_count[2][e[1]])\n",
    "            n3_list_2.append(neighbor_count[3][e[1]])\n",
    "            n4_list_2.append(neighbor_count[4][e[1]])\n",
    "            edge_exist_list.append(actual_m[e[0]][e[1]])\n",
    "            count += 1\n",
    "   \n",
    "    d = {'edge':edge_list, 'common_neighbors':cn_list, 'adamic_adar':aa_list,\n",
    "        'n1_node1':n1_list_1, 'n2_node1':n2_list_1, 'n3_node1':n3_list_1,\n",
    "        'n4_node1':n4_list_1, 'n1_node2': n1_list_2, 'n2_node2': n2_list_2,\n",
    "        'n3_node2': n3_list_2, 'n4_node2': n4_list_2, 'target': edge_exist_list}    \n",
    "    df = pd.DataFrame(data=d)\n",
    "    cols = ['edge', 'common_neighbors', 'adamic_adar', 'n1_node1', 'n2_node1',\n",
    "           'n3_node1', 'n4_node1', 'n1_node2', 'n2_node2', 'n3_node2', 'n4_node2',\n",
    "           'target']\n",
    "    df = df[cols]\n",
    "    \n",
    "    if write:\n",
    "        if train:\n",
    "            train_df.to_csv(category + \"_train_df.csv\", index=False)\n",
    "        else:\n",
    "            test_df.to_csv(category + \"_test_df.csv\", index=False)\n",
    "    \n",
    "    return df\n",
    "    \n",
    "train_df = build_df(train=True)\n",
    "test_df = build_df(train=False)"
   ]
  },
  {
   "cell_type": "code",
   "execution_count": null,
   "metadata": {
    "collapsed": true
   },
   "outputs": [],
   "source": [
    "train_df"
   ]
  },
  {
   "cell_type": "code",
   "execution_count": null,
   "metadata": {
    "collapsed": true
   },
   "outputs": [],
   "source": []
  }
 ],
 "metadata": {
  "kernelspec": {
   "display_name": "Python 2",
   "language": "python",
   "name": "python2"
  },
  "language_info": {
   "codemirror_mode": {
    "name": "ipython",
    "version": 2
   },
   "file_extension": ".py",
   "mimetype": "text/x-python",
   "name": "python",
   "nbconvert_exporter": "python",
   "pygments_lexer": "ipython2",
   "version": "2.7.11"
  }
 },
 "nbformat": 4,
 "nbformat_minor": 0
}
